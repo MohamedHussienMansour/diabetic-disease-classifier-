{
 "cells": [
  {
   "cell_type": "code",
   "execution_count": 65,
   "metadata": {},
   "outputs": [],
   "source": [
    "import tensorflow as tf\n",
    "from tensorflow import keras\n",
    "from tensorflow.keras import layers\n",
    "from sklearn.model_selection import train_test_split\n",
    "import pandas as pd\n"
   ]
  },
  {
   "cell_type": "code",
   "execution_count": 66,
   "metadata": {},
   "outputs": [],
   "source": [
    "# Load the dataset\n",
    "dataset = pd.read_csv('D:\\Read Files\\diabetes.csv')\n"
   ]
  },
  {
   "cell_type": "code",
   "execution_count": 87,
   "metadata": {},
   "outputs": [
    {
     "data": {
      "text/plain": [
       "(768, 9)"
      ]
     },
     "execution_count": 87,
     "metadata": {},
     "output_type": "execute_result"
    }
   ],
   "source": [
    "dataset.shape"
   ]
  },
  {
   "cell_type": "code",
   "execution_count": 80,
   "metadata": {},
   "outputs": [],
   "source": [
    "\n",
    "# Split the dataset into training and testing data\n",
    "train_dataset, test_dataset = train_test_split(dataset, test_size=0.2,random_state=2)\n"
   ]
  },
  {
   "cell_type": "code",
   "execution_count": 88,
   "metadata": {},
   "outputs": [
    {
     "data": {
      "text/plain": [
       "(614, 8)"
      ]
     },
     "execution_count": 88,
     "metadata": {},
     "output_type": "execute_result"
    }
   ],
   "source": [
    "train_dataset.shape"
   ]
  },
  {
   "cell_type": "code",
   "execution_count": 81,
   "metadata": {},
   "outputs": [],
   "source": [
    "\n",
    "# Separate the target variable from the input features\n",
    "train_labels = train_dataset.pop('Outcome')\n",
    "test_labels = test_dataset.pop('Outcome')\n"
   ]
  },
  {
   "cell_type": "code",
   "execution_count": 82,
   "metadata": {},
   "outputs": [
    {
     "data": {
      "text/plain": [
       "602    0\n",
       "429    1\n",
       "623    0\n",
       "209    1\n",
       "589    0\n",
       "      ..\n",
       "534    0\n",
       "584    1\n",
       "493    1\n",
       "527    0\n",
       "168    0\n",
       "Name: Outcome, Length: 614, dtype: int64"
      ]
     },
     "execution_count": 82,
     "metadata": {},
     "output_type": "execute_result"
    }
   ],
   "source": [
    "train_labels"
   ]
  },
  {
   "cell_type": "code",
   "execution_count": 83,
   "metadata": {},
   "outputs": [],
   "source": [
    "\n",
    "# Build the model\n",
    "model = keras.Sequential([\n",
    "    layers.Dense(128, activation='relu', input_shape=[len(train_dataset.keys())]),\n",
    "    layers.Dense(64, activation='relu'),\n",
    "\n",
    "    layers.Dense(1)\n",
    "])"
   ]
  },
  {
   "cell_type": "code",
   "execution_count": 84,
   "metadata": {},
   "outputs": [],
   "source": [
    "\n",
    "# Compile the model\n",
    "model.compile(loss='binary_crossentropy', optimizer='adam', metrics=['accuracy'])\n"
   ]
  },
  {
   "cell_type": "code",
   "execution_count": 85,
   "metadata": {},
   "outputs": [
    {
     "name": "stdout",
     "output_type": "stream",
     "text": [
      "Epoch 1/100\n",
      "20/20 [==============================] - 1s 842us/step - loss: 5.6011 - accuracy: 0.6205\n",
      "Epoch 2/100\n",
      "20/20 [==============================] - 0s 790us/step - loss: 5.6022 - accuracy: 0.6368\n",
      "Epoch 3/100\n",
      "20/20 [==============================] - 0s 790us/step - loss: 5.6022 - accuracy: 0.6368\n",
      "Epoch 4/100\n",
      "20/20 [==============================] - 0s 842us/step - loss: 5.6022 - accuracy: 0.6368\n",
      "Epoch 5/100\n",
      "20/20 [==============================] - 0s 842us/step - loss: 5.6022 - accuracy: 0.6368\n",
      "Epoch 6/100\n",
      "20/20 [==============================] - 0s 818us/step - loss: 5.6022 - accuracy: 0.6368\n",
      "Epoch 7/100\n",
      "20/20 [==============================] - 0s 842us/step - loss: 5.6022 - accuracy: 0.6368\n",
      "Epoch 8/100\n",
      "20/20 [==============================] - 0s 835us/step - loss: 5.6022 - accuracy: 0.6368\n",
      "Epoch 9/100\n",
      "20/20 [==============================] - 0s 897us/step - loss: 5.6022 - accuracy: 0.6368\n",
      "Epoch 10/100\n",
      "20/20 [==============================] - 0s 801us/step - loss: 5.6022 - accuracy: 0.6368\n",
      "Epoch 11/100\n",
      "20/20 [==============================] - 0s 754us/step - loss: 5.6022 - accuracy: 0.6368\n",
      "Epoch 12/100\n",
      "20/20 [==============================] - 0s 790us/step - loss: 5.6022 - accuracy: 0.6368\n",
      "Epoch 13/100\n",
      "20/20 [==============================] - 0s 810us/step - loss: 5.6022 - accuracy: 0.6368\n",
      "Epoch 14/100\n",
      "20/20 [==============================] - 0s 843us/step - loss: 5.6022 - accuracy: 0.6368\n",
      "Epoch 15/100\n",
      "20/20 [==============================] - 0s 842us/step - loss: 5.6022 - accuracy: 0.6368\n",
      "Epoch 16/100\n",
      "20/20 [==============================] - 0s 790us/step - loss: 5.6022 - accuracy: 0.6368\n",
      "Epoch 17/100\n",
      "20/20 [==============================] - 0s 790us/step - loss: 5.6022 - accuracy: 0.6368\n",
      "Epoch 18/100\n",
      "20/20 [==============================] - 0s 853us/step - loss: 5.6022 - accuracy: 0.6368\n",
      "Epoch 19/100\n",
      "20/20 [==============================] - 0s 787us/step - loss: 5.6022 - accuracy: 0.6368\n",
      "Epoch 20/100\n",
      "20/20 [==============================] - 0s 830us/step - loss: 5.6022 - accuracy: 0.6368\n",
      "Epoch 21/100\n",
      "20/20 [==============================] - 0s 790us/step - loss: 5.6022 - accuracy: 0.6368\n",
      "Epoch 22/100\n",
      "20/20 [==============================] - 0s 767us/step - loss: 5.6022 - accuracy: 0.6368\n",
      "Epoch 23/100\n",
      "20/20 [==============================] - 0s 790us/step - loss: 5.6022 - accuracy: 0.6368\n",
      "Epoch 24/100\n",
      "20/20 [==============================] - 0s 843us/step - loss: 5.6022 - accuracy: 0.6368\n",
      "Epoch 25/100\n",
      "20/20 [==============================] - 0s 842us/step - loss: 5.6022 - accuracy: 0.6368\n",
      "Epoch 26/100\n",
      "20/20 [==============================] - 0s 868us/step - loss: 5.6022 - accuracy: 0.6368\n",
      "Epoch 27/100\n",
      "20/20 [==============================] - 0s 829us/step - loss: 5.6022 - accuracy: 0.6368\n",
      "Epoch 28/100\n",
      "20/20 [==============================] - 0s 790us/step - loss: 5.6022 - accuracy: 0.6368\n",
      "Epoch 29/100\n",
      "20/20 [==============================] - 0s 790us/step - loss: 5.6022 - accuracy: 0.6368\n",
      "Epoch 30/100\n",
      "20/20 [==============================] - 0s 794us/step - loss: 5.6022 - accuracy: 0.6368\n",
      "Epoch 31/100\n",
      "20/20 [==============================] - 0s 787us/step - loss: 5.6022 - accuracy: 0.6368\n",
      "Epoch 32/100\n",
      "20/20 [==============================] - 0s 845us/step - loss: 5.6022 - accuracy: 0.6368\n",
      "Epoch 33/100\n",
      "20/20 [==============================] - 0s 791us/step - loss: 5.6022 - accuracy: 0.6368\n",
      "Epoch 34/100\n",
      "20/20 [==============================] - 0s 843us/step - loss: 5.6022 - accuracy: 0.6368\n",
      "Epoch 35/100\n",
      "20/20 [==============================] - 0s 842us/step - loss: 5.6022 - accuracy: 0.6368\n",
      "Epoch 36/100\n",
      "20/20 [==============================] - 0s 801us/step - loss: 5.6022 - accuracy: 0.6368\n",
      "Epoch 37/100\n",
      "20/20 [==============================] - 0s 842us/step - loss: 5.6022 - accuracy: 0.6368\n",
      "Epoch 38/100\n",
      "20/20 [==============================] - 0s 891us/step - loss: 5.6022 - accuracy: 0.6368\n",
      "Epoch 39/100\n",
      "20/20 [==============================] - 0s 842us/step - loss: 5.6022 - accuracy: 0.6368\n",
      "Epoch 40/100\n",
      "20/20 [==============================] - 0s 842us/step - loss: 5.6022 - accuracy: 0.6368\n",
      "Epoch 41/100\n",
      "20/20 [==============================] - 0s 790us/step - loss: 5.6022 - accuracy: 0.6368\n",
      "Epoch 42/100\n",
      "20/20 [==============================] - 0s 842us/step - loss: 5.6022 - accuracy: 0.6368\n",
      "Epoch 43/100\n",
      "20/20 [==============================] - 0s 790us/step - loss: 5.6022 - accuracy: 0.6368\n",
      "Epoch 44/100\n",
      "20/20 [==============================] - 0s 790us/step - loss: 5.6022 - accuracy: 0.6368\n",
      "Epoch 45/100\n",
      "20/20 [==============================] - 0s 829us/step - loss: 5.6022 - accuracy: 0.6368\n",
      "Epoch 46/100\n",
      "20/20 [==============================] - 0s 790us/step - loss: 5.6022 - accuracy: 0.6368\n",
      "Epoch 47/100\n",
      "20/20 [==============================] - 0s 790us/step - loss: 5.6022 - accuracy: 0.6368\n",
      "Epoch 48/100\n",
      "20/20 [==============================] - 0s 842us/step - loss: 5.6022 - accuracy: 0.6368\n",
      "Epoch 49/100\n",
      "20/20 [==============================] - 0s 842us/step - loss: 5.6022 - accuracy: 0.6368\n",
      "Epoch 50/100\n",
      "20/20 [==============================] - 0s 805us/step - loss: 5.6022 - accuracy: 0.6368\n",
      "Epoch 51/100\n",
      "20/20 [==============================] - 0s 848us/step - loss: 5.6022 - accuracy: 0.6368\n",
      "Epoch 52/100\n",
      "20/20 [==============================] - 0s 856us/step - loss: 5.6022 - accuracy: 0.6368\n",
      "Epoch 53/100\n",
      "20/20 [==============================] - 0s 842us/step - loss: 5.6022 - accuracy: 0.6368\n",
      "Epoch 54/100\n",
      "20/20 [==============================] - 0s 790us/step - loss: 5.6022 - accuracy: 0.6368\n",
      "Epoch 55/100\n",
      "20/20 [==============================] - 0s 790us/step - loss: 5.6022 - accuracy: 0.6368\n",
      "Epoch 56/100\n",
      "20/20 [==============================] - 0s 790us/step - loss: 5.6022 - accuracy: 0.6368\n",
      "Epoch 57/100\n",
      "20/20 [==============================] - 0s 843us/step - loss: 5.6022 - accuracy: 0.6368\n",
      "Epoch 58/100\n",
      "20/20 [==============================] - 0s 791us/step - loss: 5.6022 - accuracy: 0.6368\n",
      "Epoch 59/100\n",
      "20/20 [==============================] - 0s 794us/step - loss: 5.6022 - accuracy: 0.6368\n",
      "Epoch 60/100\n",
      "20/20 [==============================] - 0s 842us/step - loss: 5.6022 - accuracy: 0.6368\n",
      "Epoch 61/100\n",
      "20/20 [==============================] - 0s 841us/step - loss: 5.6022 - accuracy: 0.6368\n",
      "Epoch 62/100\n",
      "20/20 [==============================] - 0s 790us/step - loss: 5.6022 - accuracy: 0.6368\n",
      "Epoch 63/100\n",
      "20/20 [==============================] - 0s 842us/step - loss: 5.6022 - accuracy: 0.6368\n",
      "Epoch 64/100\n",
      "20/20 [==============================] - 0s 790us/step - loss: 5.6022 - accuracy: 0.6368\n",
      "Epoch 65/100\n",
      "20/20 [==============================] - 0s 790us/step - loss: 5.6022 - accuracy: 0.6368\n",
      "Epoch 66/100\n",
      "20/20 [==============================] - 0s 803us/step - loss: 5.6022 - accuracy: 0.6368\n",
      "Epoch 67/100\n",
      "20/20 [==============================] - 0s 842us/step - loss: 5.6022 - accuracy: 0.6368\n",
      "Epoch 68/100\n",
      "20/20 [==============================] - 0s 790us/step - loss: 5.6022 - accuracy: 0.6368\n",
      "Epoch 69/100\n",
      "20/20 [==============================] - 0s 826us/step - loss: 5.6022 - accuracy: 0.6368\n",
      "Epoch 70/100\n",
      "20/20 [==============================] - 0s 842us/step - loss: 5.6022 - accuracy: 0.6368\n",
      "Epoch 71/100\n",
      "20/20 [==============================] - 0s 855us/step - loss: 5.6022 - accuracy: 0.6368\n",
      "Epoch 72/100\n",
      "20/20 [==============================] - 0s 885us/step - loss: 5.6022 - accuracy: 0.6368\n",
      "Epoch 73/100\n",
      "20/20 [==============================] - 0s 842us/step - loss: 5.6022 - accuracy: 0.6368\n",
      "Epoch 74/100\n",
      "20/20 [==============================] - 0s 822us/step - loss: 5.6022 - accuracy: 0.6368\n",
      "Epoch 75/100\n",
      "20/20 [==============================] - 0s 842us/step - loss: 5.6022 - accuracy: 0.6368\n",
      "Epoch 76/100\n",
      "20/20 [==============================] - 0s 847us/step - loss: 5.6022 - accuracy: 0.6368\n",
      "Epoch 77/100\n",
      "20/20 [==============================] - 0s 835us/step - loss: 5.6022 - accuracy: 0.6368\n",
      "Epoch 78/100\n",
      "20/20 [==============================] - 0s 790us/step - loss: 5.6022 - accuracy: 0.6368\n",
      "Epoch 79/100\n",
      "20/20 [==============================] - 0s 847us/step - loss: 5.6022 - accuracy: 0.6368\n",
      "Epoch 80/100\n",
      "20/20 [==============================] - 0s 1ms/step - loss: 5.6022 - accuracy: 0.6368\n",
      "Epoch 81/100\n",
      "20/20 [==============================] - 0s 888us/step - loss: 5.6022 - accuracy: 0.6368\n",
      "Epoch 82/100\n",
      "20/20 [==============================] - 0s 842us/step - loss: 5.6022 - accuracy: 0.6368\n",
      "Epoch 83/100\n",
      "20/20 [==============================] - 0s 842us/step - loss: 5.6022 - accuracy: 0.6368\n",
      "Epoch 84/100\n",
      "20/20 [==============================] - 0s 790us/step - loss: 5.6022 - accuracy: 0.6368\n",
      "Epoch 85/100\n",
      "20/20 [==============================] - 0s 843us/step - loss: 5.6022 - accuracy: 0.6368\n",
      "Epoch 86/100\n",
      "20/20 [==============================] - 0s 843us/step - loss: 5.6022 - accuracy: 0.6368\n",
      "Epoch 87/100\n",
      "20/20 [==============================] - 0s 804us/step - loss: 5.6022 - accuracy: 0.6368\n",
      "Epoch 88/100\n",
      "20/20 [==============================] - 0s 820us/step - loss: 5.6022 - accuracy: 0.6368\n",
      "Epoch 89/100\n",
      "20/20 [==============================] - 0s 804us/step - loss: 5.6022 - accuracy: 0.6368\n",
      "Epoch 90/100\n",
      "20/20 [==============================] - 0s 870us/step - loss: 5.6022 - accuracy: 0.6368\n",
      "Epoch 91/100\n",
      "20/20 [==============================] - 0s 895us/step - loss: 5.6022 - accuracy: 0.6368\n",
      "Epoch 92/100\n",
      "20/20 [==============================] - 0s 819us/step - loss: 5.6022 - accuracy: 0.6368\n",
      "Epoch 93/100\n",
      "20/20 [==============================] - 0s 846us/step - loss: 5.6022 - accuracy: 0.6368\n",
      "Epoch 94/100\n",
      "20/20 [==============================] - 0s 845us/step - loss: 5.6022 - accuracy: 0.6368\n",
      "Epoch 95/100\n",
      "20/20 [==============================] - 0s 843us/step - loss: 5.6022 - accuracy: 0.6368\n",
      "Epoch 96/100\n",
      "20/20 [==============================] - 0s 764us/step - loss: 5.6022 - accuracy: 0.6368\n",
      "Epoch 97/100\n",
      "20/20 [==============================] - 0s 842us/step - loss: 5.6022 - accuracy: 0.6368\n",
      "Epoch 98/100\n",
      "20/20 [==============================] - 0s 844us/step - loss: 5.6022 - accuracy: 0.6368\n",
      "Epoch 99/100\n",
      "20/20 [==============================] - 0s 790us/step - loss: 5.6022 - accuracy: 0.6368\n",
      "Epoch 100/100\n",
      "20/20 [==============================] - 0s 790us/step - loss: 5.6022 - accuracy: 0.6368\n"
     ]
    }
   ],
   "source": [
    "\n",
    "# Train the model\n",
    "history = model.fit(train_dataset, train_labels, epochs=100)"
   ]
  },
  {
   "cell_type": "code",
   "execution_count": 86,
   "metadata": {},
   "outputs": [
    {
     "name": "stdout",
     "output_type": "stream",
     "text": [
      "5/5 [==============================] - 0s 1ms/step - loss: 4.5073 - accuracy: 0.7078\n",
      "\n",
      "Test accuracy: 0.7077922224998474\n"
     ]
    }
   ],
   "source": [
    "# Evaluate the model\n",
    "test_loss, test_acc = model.evaluate(test_dataset, test_labels)\n",
    "\n",
    "print('\\nTest accuracy:', test_acc)"
   ]
  },
  {
   "cell_type": "code",
   "execution_count": null,
   "metadata": {},
   "outputs": [],
   "source": []
  },
  {
   "cell_type": "code",
   "execution_count": null,
   "metadata": {},
   "outputs": [],
   "source": []
  }
 ],
 "metadata": {
  "kernelspec": {
   "display_name": "Python 3",
   "language": "python",
   "name": "python3"
  },
  "language_info": {
   "codemirror_mode": {
    "name": "ipython",
    "version": 3
   },
   "file_extension": ".py",
   "mimetype": "text/x-python",
   "name": "python",
   "nbconvert_exporter": "python",
   "pygments_lexer": "ipython3",
   "version": "3.10.6"
  }
 },
 "nbformat": 4,
 "nbformat_minor": 2
}
